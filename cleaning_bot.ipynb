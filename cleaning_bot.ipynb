{
 "cells": [
  {
   "cell_type": "markdown",
   "metadata": {},
   "source": [
    "#### Creating the Grid\n",
    "<br>\n",
    "We start by defining a function create_grid that creates a 2D grid to represent the environment.\n",
    "This function takes two arguments: width for the grid's width in cells and height for its height in cells. The grid is initialized with all cells set to 0, representing free space."
   ]
  },
  {
   "cell_type": "code",
   "execution_count": 1,
   "metadata": {},
   "outputs": [],
   "source": [
    "def create_grid(width, height):\n",
    "    grid = []\n",
    "    for _ in range(height):\n",
    "        row = [0] * width\n",
    "        grid.append(row)\n",
    "    return grid"
   ]
  },
  {
   "cell_type": "markdown",
   "metadata": {},
   "source": [
    "\n",
    "<br>\n",
    "\n",
    "#### Setting Obstacles\n",
    "<br>\n",
    "The set_obstacle function is used to mark specific cells in the grid as obstacles, with the value 1. It takes three arguments: grid (the grid map representation), x (the X-coordinate of the cell), and y (the Y-coordinate of the cell). Obstacles are set by changing the value of the specified cell in the grid."
   ]
  },
  {
   "cell_type": "code",
   "execution_count": 2,
   "metadata": {},
   "outputs": [],
   "source": [
    "def set_obstacle(grid, x, y):\n",
    "    if 0 <= x < len(grid[0]) and 0 <= y < len(grid):\n",
    "        grid[y][x] = 1"
   ]
  },
  {
   "cell_type": "markdown",
   "metadata": {},
   "source": [
    "<br>\n",
    "\n",
    "#### Printing the Grid\n",
    "<br>To visualize the grid, we use the print_grid function, which prints the grid map."
   ]
  },
  {
   "cell_type": "code",
   "execution_count": 3,
   "metadata": {},
   "outputs": [],
   "source": [
    "def print_grid(grid):\n",
    "    for row in grid:\n",
    "        print(\" \".join([str(cell) for cell in row]))"
   ]
  },
  {
   "cell_type": "markdown",
   "metadata": {},
   "source": [
    "<br>\n",
    "\n",
    "#### Example Usage\n",
    "Let's demonstrate these functions with an example. We'll create a grid with a width of 10 cells and a height of 5 cells. Then, we'll set two obstacles in the grid at positions (2, 2) and (5, 1), and finally, we'll print the grid to visualize it."
   ]
  },
  {
   "cell_type": "code",
   "execution_count": null,
   "metadata": {},
   "outputs": [],
   "source": [
    "width = 10\n",
    "height = 5\n",
    "\n",
    "grid = create_grid(width, height)\n",
    "\n",
    "set_obstacle(grid, 2, 2)\n",
    "set_obstacle(grid, 5, 1)\n",
    "\n",
    "print_grid(grid)\n"
   ]
  }
 ],
 "metadata": {
  "kernelspec": {
   "display_name": "Python 3",
   "language": "python",
   "name": "python3"
  },
  "language_info": {
   "codemirror_mode": {
    "name": "ipython",
    "version": 3
   },
   "file_extension": ".py",
   "mimetype": "text/x-python",
   "name": "python",
   "nbconvert_exporter": "python",
   "pygments_lexer": "ipython3",
   "version": "3.11.9"
  }
 },
 "nbformat": 4,
 "nbformat_minor": 2
}
