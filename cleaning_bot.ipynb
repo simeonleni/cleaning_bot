{
 "cells": [
  {
   "cell_type": "markdown",
   "metadata": {},
   "source": [
    "#### Creating the Grid\n",
    "<br>\n",
    "We start by defining a function create_grid that creates a 2D grid to represent the environment.\n",
    "This function takes two arguments: width for the grid's width in cells and height for its height in cells. The grid is initialized with all cells set to 0, representing free space."
   ]
  },
  {
   "cell_type": "code",
   "execution_count": 20,
   "metadata": {},
   "outputs": [],
   "source": [
    "def create_grid(width, height):\n",
    "    grid = []\n",
    "    for _ in range(height):\n",
    "        row = [0] * width\n",
    "        grid.append(row)\n",
    "    return grid"
   ]
  },
  {
   "cell_type": "markdown",
   "metadata": {},
   "source": [
    "\n",
    "<br>\n",
    "\n",
    "#### Setting Obstacles\n",
    "<br>\n",
    "The set_obstacle function is used to mark specific cells in the grid as obstacles, with the value 1. It takes three arguments: grid (the grid map representation), x (the X-coordinate of the cell), and y (the Y-coordinate of the cell). Obstacles are set by changing the value of the specified cell in the grid."
   ]
  },
  {
   "cell_type": "code",
   "execution_count": 21,
   "metadata": {},
   "outputs": [],
   "source": [
    "def set_obstacle(grid, x, y):\n",
    "    if 0 <= x < len(grid[0]) and 0 <= y < len(grid):\n",
    "        grid[y][x] = 1"
   ]
  },
  {
   "cell_type": "markdown",
   "metadata": {},
   "source": [
    "<br>\n",
    "\n",
    "#### Printing the Grid\n",
    "<br>To visualize the grid, we use the print_grid function, which prints the grid map."
   ]
  },
  {
   "cell_type": "code",
   "execution_count": 22,
   "metadata": {},
   "outputs": [],
   "source": [
    "def print_grid(grid):\n",
    "    for row in grid:\n",
    "        print(\" \".join([str(cell) for cell in row]))"
   ]
  },
  {
   "cell_type": "markdown",
   "metadata": {},
   "source": [
    "<br>\n",
    "\n",
    "#### Example Usage"
   ]
  },
  {
   "cell_type": "code",
   "execution_count": 23,
   "metadata": {},
   "outputs": [
    {
     "name": "stdout",
     "output_type": "stream",
     "text": [
      "0 0 0 0 0 0 0 0 0 0\n",
      "0 0 0 0 0 0 0 0 0 0\n",
      "0 0 0 1 0 0 0 0 0 0\n",
      "0 0 0 0 0 0 0 0 0 0\n",
      "0 0 0 0 0 0 0 0 0 0\n",
      "0 0 0 0 0 0 0 0 0 0\n",
      "0 0 0 0 0 0 0 0 0 0\n",
      "0 0 0 0 0 0 0 0 0 0\n",
      "0 1 0 0 0 0 0 0 0 0\n",
      "0 0 0 0 0 0 0 0 0 0\n"
     ]
    }
   ],
   "source": [
    "width = 10\n",
    "height = 10\n",
    "\n",
    "grid = create_grid(width, height)\n",
    "\n",
    "set_obstacle(grid, 1, 8)\n",
    "set_obstacle(grid, 3, 2)\n",
    "\n",
    "\n",
    "print_grid(grid)\n"
   ]
  },
  {
   "cell_type": "markdown",
   "metadata": {},
   "source": [
    "<br><br><br>\n",
    "\n",
    "### Cost Function and Heuristic\n",
    "#### Cost Function\n",
    "The cost function cost_function assigns a cost value to each action the robot takes. It considers factors such as terrain type (carpet vs. hardwood) and energy expenditure for turns to determine the cost of movement."
   ]
  },
  {
   "cell_type": "code",
   "execution_count": 24,
   "metadata": {},
   "outputs": [],
   "source": [
    "def cost_function(action, terrain_type):\n",
    "    # Default unit cost for movement\n",
    "    base_cost = 1\n",
    "\n",
    "    if terrain_type == \"carpet\":\n",
    "        # Higher cost for moving on carpet\n",
    "        movement_cost = base_cost * 2\n",
    "    else:\n",
    "        movement_cost = base_cost\n",
    "\n",
    "    if action in [\"LEFT\", \"RIGHT\"]:\n",
    "        # Add turn cost to movement cost for turning actions\n",
    "        total_cost = movement_cost + 2\n",
    "    else:\n",
    "        # No extra cost for straight movements\n",
    "        total_cost = movement_cost\n",
    "\n",
    "    return total_cost\n"
   ]
  },
  {
   "cell_type": "markdown",
   "metadata": {},
   "source": [
    "#### Cost function Test\n",
    "<br>\n",
    "The cost_function calculates the cost of a robot's action based on the terrain type and the action taken. It considers two factors, movement cost and turn cost. The movement cost is doubled if the robot is on carpet terrain, and the turn cost is higher for turning actions (LEFT or RIGHT) compared to straight movements (UP or DOWN).\n",
    "\n",
    "Testing Expectations:\n",
    "\n",
    "1. When the robot moves UP or DOWN on hardwood terrain, the cost should be 1.\n",
    "2. When the robot moves LEFT or RIGHT on hardwood terrain, the cost should be 3.\n",
    "3. When the robot moves UP or DOWN on carpet terrain, the cost should be 2.\n",
    "4. When the robot moves LEFT or RIGHT on carpet terrain, the cost should be 4.\n",
    "\n",
    "\n"
   ]
  },
  {
   "cell_type": "markdown",
   "metadata": {},
   "source": [
    "When the robot moves UP or DOWN on hardwood terrain, the cost should be 1:\n"
   ]
  },
  {
   "cell_type": "code",
   "execution_count": 25,
   "metadata": {},
   "outputs": [
    {
     "name": "stdout",
     "output_type": "stream",
     "text": [
      "1\n",
      "1\n"
     ]
    }
   ],
   "source": [
    "print(cost_function(\"UP\", \"hardwood\"))  # Output: 1\n",
    "print(cost_function(\"DOWN\", \"hardwood\"))  # Output: 1"
   ]
  },
  {
   "cell_type": "markdown",
   "metadata": {},
   "source": [
    "When the robot moves LEFT or RIGHT on hardwood terrain, the cost should be 3:"
   ]
  },
  {
   "cell_type": "code",
   "execution_count": 26,
   "metadata": {},
   "outputs": [
    {
     "name": "stdout",
     "output_type": "stream",
     "text": [
      "3\n",
      "3\n"
     ]
    }
   ],
   "source": [
    "print(cost_function(\"LEFT\", \"hardwood\"))  # Output: 3\n",
    "print(cost_function(\"RIGHT\", \"hardwood\"))  # Output: 3"
   ]
  },
  {
   "cell_type": "markdown",
   "metadata": {},
   "source": [
    "When the robot moves UP or DOWN on carpet terrain, the cost should be 2 (doubled movement cost):"
   ]
  },
  {
   "cell_type": "code",
   "execution_count": 27,
   "metadata": {},
   "outputs": [
    {
     "name": "stdout",
     "output_type": "stream",
     "text": [
      "2\n",
      "2\n"
     ]
    }
   ],
   "source": [
    "print(cost_function(\"UP\", \"carpet\"))  # Output: 2\n",
    "print(cost_function(\"DOWN\", \"carpet\"))  # Output: 2"
   ]
  },
  {
   "cell_type": "markdown",
   "metadata": {},
   "source": [
    "When the robot moves LEFT or RIGHT on carpet terrain, the cost should be 4:"
   ]
  },
  {
   "cell_type": "code",
   "execution_count": 28,
   "metadata": {},
   "outputs": [
    {
     "name": "stdout",
     "output_type": "stream",
     "text": [
      "4\n",
      "4\n"
     ]
    }
   ],
   "source": [
    "print(cost_function(\"LEFT\", \"carpet\"))  # Output: 4\n",
    "print(cost_function(\"RIGHT\", \"carpet\"))  # Output: 4"
   ]
  },
  {
   "cell_type": "markdown",
   "metadata": {},
   "source": [
    "<br>\n",
    "\n",
    "#### Heuristic Function\n",
    "The heuristic function estimates the remaining distance for the robot to reach the cleaning target. It considers obstacles in the environment and penalizes paths that require extensive navigation around them."
   ]
  },
  {
   "cell_type": "markdown",
   "metadata": {},
   "source": [
    "<br>\n",
    "\n",
    "#### Calculate Manhattan Distance Function\n",
    "\n",
    "Calculating the Manhattan distance between two points, representing a simple heuristic that estimates the remaining distance for the robot to reach the cleaning target. This function ignores obstacles in the environment."
   ]
  },
  {
   "cell_type": "code",
   "execution_count": 29,
   "metadata": {},
   "outputs": [],
   "source": [
    "def manhattan_distance(start, end):\n",
    "    return abs(start[0] - end[0]) + abs(start[1] - end[1])\n"
   ]
  },
  {
   "cell_type": "markdown",
   "metadata": {},
   "source": [
    "#### Handle Obstacle Function\n",
    "\n",
    "The purpose of this function is to handle obstacles in the environment when calculating the heuristic. It checks if a specific grid cell contains an obstacle and penalizes paths that would require the robot to navigate around obstacles. The function calculates the distances between the robot's current position, the obstacle, and the target position to determine if the path should be penalized.\n",
    "\n",
    "<br>\n",
    "\n",
    "The way this is working is basically helping the robot select paths that are not only direct (shortest, straight without detours) but also avoid obstacles between the robot's current position, the obstacle, and the target position.\n"
   ]
  },
  {
   "cell_type": "code",
   "execution_count": 30,
   "metadata": {},
   "outputs": [],
   "source": [
    "def handle_obstacle(current_position, target_position, grid, heuristic_value, row, col):\n",
    "    if grid[row][col] == 1:\n",
    "        obstacle_position = (col, row)\n",
    "        obstacle_distance = manhattan_distance(current_position, obstacle_position)\n",
    "        target_obstacle_distance = manhattan_distance(obstacle_position, target_position)\n",
    "\n",
    "        # Penalize paths that require navigation around obstacles\n",
    "        if obstacle_distance + target_obstacle_distance < heuristic_value:\n",
    "\n",
    "            # Penalize heavily for navigating around obstacles\n",
    "            heuristic_value += 10\n",
    "    return heuristic_value"
   ]
  },
  {
   "cell_type": "markdown",
   "metadata": {},
   "source": [
    "#### Testing handle_obstacle\n",
    "\n",
    "This function is expected to handle obstacles encountered during path finding and update the heuristic value accordingly.\n",
    "\n",
    "The higher heuristic value indicates that encountering an obstacle has made the path longer and more complex, leading to a higher estimated cost to reach the goal. This tells us that the algorithm is appropriately considering obstacles and adjusting its estimates accordingly for more accurate path finding."
   ]
  },
  {
   "cell_type": "code",
   "execution_count": 31,
   "metadata": {},
   "outputs": [
    {
     "name": "stdout",
     "output_type": "stream",
     "text": [
      "0 0 0 0 0 0 0 0 0 0\n",
      "0 0 0 0 0 0 0 0 0 0\n",
      "0 0 0 1 0 0 0 0 0 0\n",
      "0 0 0 0 0 0 0 0 0 0\n",
      "0 0 0 0 0 0 0 0 0 0\n",
      "0 0 0 0 0 0 0 0 0 0\n",
      "0 0 0 0 0 0 0 0 0 0\n",
      "0 0 0 0 0 0 0 0 0 0\n",
      "0 1 0 0 0 0 0 0 0 0\n",
      "0 0 0 0 0 0 0 0 0 0\n",
      "Updated heuristic value: 20\n"
     ]
    }
   ],
   "source": [
    "current_position = (0, 0)\n",
    "target_position = (9, 9)\n",
    "\n",
    "print_grid(grid)\n",
    "\n",
    "heuristic_value = 20\n",
    "\n",
    "# Check a cell with an obstacle and update the heuristic value\n",
    "updated_heuristic_value = handle_obstacle(current_position, target_position, grid, heuristic_value, 2, 2)\n",
    "print(f\"Updated heuristic value: {updated_heuristic_value}\")"
   ]
  },
  {
   "cell_type": "markdown",
   "metadata": {},
   "source": [
    "#### Heuristic Function\n",
    "\n",
    "This code is the heuristic function for path finding, taking into account obstacles in the grid. It calculates the Manhattan distance between the current position and the target position as the initial heuristic value. Then, it iterates through each cell in the grid to check for obstacles, updating the heuristic value based on the obstacle penalty using the `handle_obstacle` function. Finally, it returns the updated heuristic value, incorporating penalties for navigating around obstacles to provide a more accurate estimate of the remaining distance to reach the target."
   ]
  },
  {
   "cell_type": "code",
   "execution_count": 32,
   "metadata": {},
   "outputs": [],
   "source": [
    "def heuristic(current_position, target_position, grid):\n",
    "\n",
    "    # Calculate the Manhattan distance\n",
    "    heuristic_value = manhattan_distance(current_position, target_position)\n",
    "\n",
    "    # Penalize paths that require navigation around obstacles\n",
    "    for row in range(len(grid)):\n",
    "        for col in range(len(grid[0])):\n",
    "            heuristic_value = handle_obstacle(current_position, target_position, grid, heuristic_value, row, col)\n",
    "\n",
    "    return heuristic_value\n"
   ]
  },
  {
   "cell_type": "markdown",
   "metadata": {},
   "source": [
    "<br>\n",
    "\n",
    "#### Test Heuristic Function\n",
    "\n",
    "This test scenario calculates the estimated remaining distance for a robot to reach a target position from a given current position on a grid potentially containing obstacles. The test sets the current position as `(2, 2)` and the target position as `(9, 9)`. It then calls the `heuristic` function with these positions and the grid, aiming to verify the function's functionality in calculating the heuristic value considering Manhattan distance and obstacle penalties. The resulting `estimated_distance` value from the test is printed to demonstrate the estimated remaining distance, taking into account obstacles in the environment."
   ]
  },
  {
   "cell_type": "code",
   "execution_count": 33,
   "metadata": {},
   "outputs": [
    {
     "name": "stdout",
     "output_type": "stream",
     "text": [
      "Estimated remaining distance with obstacles: 14\n"
     ]
    }
   ],
   "source": [
    "current_position = (2, 2)\n",
    "target_position = (9, 9)\n",
    "\n",
    "estimated_distance = heuristic(current_position, target_position, grid)\n",
    "print(f\"Estimated remaining distance with obstacles: {estimated_distance}\")\n"
   ]
  },
  {
   "cell_type": "markdown",
   "metadata": {},
   "source": [
    "<br><br><br>\n",
    "\n",
    "#### A* Implementation and Testing\n",
    "#### A* Implementation\n",
    "\n",
    "Implemention of the A* search algorithm to find the optimal path for the robot to navigate\n",
    "from its starting position to clean every cell in the environment and finally reach the\n",
    "charging station (another designated cell).\n"
   ]
  },
  {
   "cell_type": "code",
   "execution_count": 34,
   "metadata": {},
   "outputs": [],
   "source": [
    "import heapq\n",
    "\n",
    "# Define cell types\n",
    "EMPTY = 0\n",
    "OBSTACLE = 1\n",
    "\n",
    "# Define a class for the A* node\n",
    "class Node:\n",
    "    def __init__(self, position, parent=None):\n",
    "        self.position = position\n",
    "        self.parent = parent\n",
    "        self.g = 0  # Cost from start node to current node\n",
    "        self.h = 0  # Heuristic value (estimated cost from current node to goal)\n",
    "        self.f = 0  # Total cost (g + h)\n",
    "\n",
    "    def __lt__(self, other):\n",
    "        return self.f < other.f\n",
    "\n",
    "\n",
    "\n",
    "# Define the A* search function\n",
    "def astar_search(grid, start, end):\n",
    "    # Initialize the open list (priority queue) with the start node\n",
    "    open_list = []\n",
    "    heapq.heappush(open_list, (0, Node(start)))\n",
    "\n",
    "    # Initialize the closed list (set of visited nodes)\n",
    "    closed_list = set()\n",
    "\n",
    "    while open_list:\n",
    "        # Pop the node with the lowest f value from the open list\n",
    "        _, current_node = heapq.heappop(open_list)\n",
    "\n",
    "        # Add current node to the closed list\n",
    "        closed_list.add(current_node.position)\n",
    "\n",
    "        # Check if the current node is the goal\n",
    "        if current_node.position == end:\n",
    "            path = []\n",
    "            while current_node:\n",
    "                path.append(current_node.position)\n",
    "                current_node = current_node.parent\n",
    "            return path[::-1]  # Reverse the path to start from the start node\n",
    "\n",
    "        # Generate successor nodes\n",
    "        for action in [\"LEFT\", \"RIGHT\", \"UP\", \"DOWN\"]:\n",
    "            row, col = current_node.position\n",
    "            if action == \"LEFT\":\n",
    "                col -= 1\n",
    "            elif action == \"RIGHT\":\n",
    "                col += 1\n",
    "            elif action == \"UP\":\n",
    "                row -= 1\n",
    "            elif action == \"DOWN\":\n",
    "                row += 1\n",
    "\n",
    "            # Check if the successor position is valid and not an obstacle\n",
    "            if 0 <= row < len(grid) and 0 <= col < len(grid[0]) and grid[row][col] != OBSTACLE and (row, col) not in closed_list:\n",
    "                # Calculate the cost for the current action\n",
    "                terrain_type = \"carpet\" if grid[row][col] == 3 else \"floor\"\n",
    "                cost = cost_function(action, terrain_type)\n",
    "\n",
    "                # Create the successor node\n",
    "                successor = Node((row, col), parent=current_node)\n",
    "                successor.g = current_node.g + cost\n",
    "                successor.h = heuristic(successor.position, end, grid)\n",
    "                successor.f = successor.g + successor.h\n",
    "\n",
    "                # Add the successor node to the open list\n",
    "                heapq.heappush(open_list, (successor.f, successor))\n",
    "\n",
    "    return None\n"
   ]
  },
  {
   "cell_type": "markdown",
   "metadata": {},
   "source": [
    "#### Testing the A* Algorithm\n",
    "\n",
    "The algorithm returns the path from the stated start position to the end, ensuring it avoids obstacles"
   ]
  },
  {
   "cell_type": "code",
   "execution_count": 35,
   "metadata": {},
   "outputs": [
    {
     "name": "stdout",
     "output_type": "stream",
     "text": [
      "0 0 0 0 0 0 0 0 0 0\n",
      "0 0 0 0 0 0 0 0 0 0\n",
      "0 0 0 1 0 0 0 0 0 0\n",
      "0 0 0 0 0 0 0 0 0 0\n",
      "0 0 0 0 0 0 0 0 0 0\n",
      "0 0 0 0 0 0 0 0 0 0\n",
      "0 0 0 0 0 0 0 0 0 0\n",
      "0 0 0 0 0 0 0 0 0 0\n",
      "0 1 0 0 0 0 0 0 0 0\n",
      "0 0 0 0 0 0 0 0 0 0\n",
      "[[0, 0, 0, 0, 0, 0, 0, 0, 0, 0], [0, 0, 0, 0, 0, 0, 0, 0, 0, 0], [0, 0, 0, 1, 0, 0, 0, 0, 0, 0], [0, 0, 0, 0, 0, 0, 0, 0, 0, 0], [0, 0, 0, 0, 0, 0, 0, 0, 0, 0], [0, 0, 0, 0, 0, 0, 0, 0, 0, 0], [0, 0, 0, 0, 0, 0, 0, 0, 0, 0], [0, 0, 0, 0, 0, 0, 0, 0, 0, 0], [0, 1, 0, 0, 0, 0, 0, 0, 0, 0], [0, 0, 0, 0, 0, 0, 0, 0, 0, 0]]\n",
      "Optimal Path: [(0, 0), (1, 0), (2, 0), (3, 0), (4, 0), (5, 0), (6, 0), (6, 1), (7, 1), (7, 2), (8, 2), (8, 3), (8, 4), (9, 4), (9, 5), (9, 6), (9, 7), (9, 8), (9, 9)]\n"
     ]
    }
   ],
   "source": [
    "start_position = (0, 0)\n",
    "end_position = (9, 9)\n",
    "\n",
    "print_grid(grid)\n",
    "print(grid)\n",
    "path = astar_search(grid, start_position, end_position)\n",
    "\n",
    "print(\"Optimal Path:\", path)"
   ]
  },
  {
   "cell_type": "markdown",
   "metadata": {},
   "source": [
    "<br>\n",
    "\n",
    "#### Visualizing the environment and the path\n",
    "\n",
    "This code defines a function called `plot` that takes a grid and a path as inputs. It uses matplotlib and numpy to plot a grid with obstacles represented as black squares and an optimal path represented as gray squares. The plot includes grid lines, hides x and y labels, inverts the y-axis for correct orientation, and removes the border around the plot. Finally, it displays the plot using `plt.show()`."
   ]
  },
  {
   "cell_type": "code",
   "execution_count": 36,
   "metadata": {},
   "outputs": [],
   "source": [
    "import matplotlib.pyplot as plt\n",
    "import numpy as np\n",
    "\n",
    "def plot(grid, path):\n",
    "    grid = np.array(grid)\n",
    "\n",
    "    num_rows, num_cols = grid.shape\n",
    "\n",
    "    fig, ax = plt.subplots()\n",
    "    ax.imshow([[0]], cmap='binary', extent=[0, num_cols, 0, num_rows])\n",
    "\n",
    "    for i in range(num_rows):\n",
    "        for j in range(num_cols):\n",
    "            if grid[i][j] == 1:\n",
    "                ax.add_patch(plt.Rectangle((j, i), 1, 1, color='black', linewidth=0))\n",
    "\n",
    "    for pos in path:\n",
    "        ax.add_patch(plt.Rectangle((pos[1], pos[0]), 1, 1, color='lightgray', linewidth=0))\n",
    "\n",
    "    ax.set_xticks(np.arange(num_cols) + 0.5)\n",
    "    ax.set_yticks(np.arange(num_rows) + 0.5)\n",
    "    ax.set_xticklabels([])\n",
    "    ax.set_yticklabels([])\n",
    "\n",
    "    ax.invert_yaxis()\n",
    "\n",
    "    ax.axis('off')\n",
    "\n",
    "    plt.show()\n",
    "\n",
    "\n"
   ]
  },
  {
   "cell_type": "markdown",
   "metadata": {},
   "source": [
    "<br>\n",
    "\n",
    "#### Diverse Environment Testing\n",
    "\n",
    "Try out your path finding algorithm on a range of environments with unique obstacle arrangements and destination setups.\n",
    "\n",
    "\n",
    "\n",
    "\n",
    "\n",
    "\n"
   ]
  },
  {
   "cell_type": "markdown",
   "metadata": {},
   "source": [
    "<br><br><br>\n",
    "\n",
    "#### Environment A"
   ]
  },
  {
   "cell_type": "code",
   "execution_count": 37,
   "metadata": {},
   "outputs": [
    {
     "data": {
      "image/png": "[encoded data removed]",
      "text/plain": [
       "<Figure size 640x480 with 1 Axes>"
      ]
     },
     "metadata": {},
     "output_type": "display_data"
    }
   ],
   "source": [
    "#Environment A configuration\n",
    "\n",
    "width = 10\n",
    "height = 10\n",
    "\n",
    "grid = create_grid(width, height)\n",
    "\n",
    "\n",
    "#Adding obstacles to the environment\n",
    "\n",
    "set_obstacle(grid, 1, 8)\n",
    "set_obstacle(grid, 3, 2)\n",
    "set_obstacle(grid, 5, 1)\n",
    "set_obstacle(grid, 8, 4)\n",
    "set_obstacle(grid, 2, 2)\n",
    "set_obstacle(grid, 5, 3)\n",
    "set_obstacle(grid, 9, 6)\n",
    "set_obstacle(grid, 4, 2)\n",
    "set_obstacle(grid, 6, 7)\n",
    "set_obstacle(grid, 8, 1)\n",
    "set_obstacle(grid, 4, 5)\n",
    "set_obstacle(grid, 7, 1)\n",
    "set_obstacle(grid, 2, 7)\n",
    "set_obstacle(grid, 5, 9)\n",
    "set_obstacle(grid, 1, 3)\n",
    "set_obstacle(grid, 3, 8)\n",
    "set_obstacle(grid, 8, 6)\n",
    "set_obstacle(grid, 4, 1)\n",
    "\n",
    "\n",
    "#justifying the start which is the position of the robot and the target\n",
    "start_position = (0, 0)\n",
    "end_position = (9, 9)\n",
    "\n",
    "\n",
    "path = astar_search(grid, start_position, end_position)\n",
    "\n",
    "\n",
    "#Visualize the path\n",
    "plot(grid, path)"
   ]
  },
  {
   "cell_type": "markdown",
   "metadata": {},
   "source": [
    "<br><br><br>\n",
    "\n",
    "#### Environment B"
   ]
  },
  {
   "cell_type": "code",
   "execution_count": 38,
   "metadata": {},
   "outputs": [
    {
     "data": {
      "image/png": "[encoded data removed]",
      "text/plain": [
       "<Figure size 640x480 with 1 Axes>"
      ]
     },
     "metadata": {},
     "output_type": "display_data"
    }
   ],
   "source": [
    "#Environment A configuration\n",
    "\n",
    "width = 10\n",
    "height = 10\n",
    "\n",
    "grid = create_grid(width, height)\n",
    "\n",
    "\n",
    "#Adding obstacles to the environment\n",
    "\n",
    "set_obstacle(grid, 2, 7)\n",
    "set_obstacle(grid, 4, 5)\n",
    "set_obstacle(grid, 6, 3)\n",
    "set_obstacle(grid, 9, 1)\n",
    "set_obstacle(grid, 3, 4)\n",
    "set_obstacle(grid, 5, 8)\n",
    "set_obstacle(grid, 1, 9)\n",
    "set_obstacle(grid, 8, 2)\n",
    "set_obstacle(grid, 7, 6)\n",
    "set_obstacle(grid, 4, 7)\n",
    "set_obstacle(grid, 9, 5)\n",
    "set_obstacle(grid, 2, 3)\n",
    "set_obstacle(grid, 6, 8)\n",
    "set_obstacle(grid, 5, 1)\n",
    "set_obstacle(grid, 1, 4)\n",
    "set_obstacle(grid, 8, 9)\n",
    "set_obstacle(grid, 3, 6)\n",
    "set_obstacle(grid, 7, 2)\n",
    "\n",
    "\n",
    "\n",
    "#justifying the start which is the position of the robot and the target\n",
    "start_position = (0, 0)\n",
    "end_position = (9, 9)\n",
    "\n",
    "\n",
    "path = astar_search(grid, start_position, end_position)\n",
    "\n",
    "\n",
    "#Visualize the path\n",
    "plot(grid, path)"
   ]
  }
 ],
 "metadata": {
  "kernelspec": {
   "display_name": "Python 3",
   "language": "python",
   "name": "python3"
  },
  "language_info": {
   "codemirror_mode": {
    "name": "ipython",
    "version": 3
   },
   "file_extension": ".py",
   "mimetype": "text/x-python",
   "name": "python",
   "nbconvert_exporter": "python",
   "pygments_lexer": "ipython3",
   "version": "3.11.9"
  }
 },
 "nbformat": 4,
 "nbformat_minor": 2
}
