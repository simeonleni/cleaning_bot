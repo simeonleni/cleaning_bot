{
 "cells": [
  {
   "cell_type": "markdown",
   "metadata": {},
   "source": [
    "#### Creating the Grid\n",
    "<br>\n",
    "We start by defining a function create_grid that creates a 2D grid to represent the environment.\n",
    "This function takes two arguments: width for the grid's width in cells and height for its height in cells. The grid is initialized with all cells set to 0, representing free space."
   ]
  },
  {
   "cell_type": "code",
   "execution_count": 1,
   "metadata": {},
   "outputs": [],
   "source": [
    "def create_grid(width, height):\n",
    "    grid = []\n",
    "    for _ in range(height):\n",
    "        row = [0] * width\n",
    "        grid.append(row)\n",
    "    return grid"
   ]
  },
  {
   "cell_type": "markdown",
   "metadata": {},
   "source": [
    "\n",
    "<br>\n",
    "\n",
    "#### Setting Obstacles\n",
    "<br>\n",
    "The set_obstacle function is used to mark specific cells in the grid as obstacles, with the value 1. It takes three arguments: grid (the grid map representation), x (the X-coordinate of the cell), and y (the Y-coordinate of the cell). Obstacles are set by changing the value of the specified cell in the grid."
   ]
  },
  {
   "cell_type": "code",
   "execution_count": 2,
   "metadata": {},
   "outputs": [],
   "source": [
    "def set_obstacle(grid, x, y):\n",
    "    if 0 <= x < len(grid[0]) and 0 <= y < len(grid):\n",
    "        grid[y][x] = 1"
   ]
  },
  {
   "cell_type": "markdown",
   "metadata": {},
   "source": [
    "<br>\n",
    "\n",
    "#### Printing the Grid\n",
    "<br>To visualize the grid, we use the print_grid function, which prints the grid map."
   ]
  },
  {
   "cell_type": "code",
   "execution_count": 3,
   "metadata": {},
   "outputs": [],
   "source": [
    "def print_grid(grid):\n",
    "    for row in grid:\n",
    "        print(\" \".join([str(cell) for cell in row]))"
   ]
  },
  {
   "cell_type": "markdown",
   "metadata": {},
   "source": [
    "<br>\n",
    "\n",
    "#### Example Usage\n",
    "<br>\n",
    "\n"
   ]
  },
  {
   "cell_type": "code",
   "execution_count": 4,
   "metadata": {},
   "outputs": [
    {
     "name": "stdout",
     "output_type": "stream",
     "text": [
      "0 0 0 0 0 0 0 0 0 0\n",
      "0 0 0 0 0 0 0 0 0 0\n",
      "0 0 1 0 0 0 0 0 0 0\n",
      "0 0 0 0 0 1 0 0 0 0\n",
      "0 0 0 0 0 0 0 0 0 0\n",
      "0 0 0 0 0 0 0 0 0 0\n",
      "0 0 0 0 0 0 0 0 0 0\n",
      "0 0 0 0 0 0 0 0 0 0\n",
      "0 1 0 0 0 0 0 0 0 0\n",
      "0 0 0 0 0 0 0 0 0 0\n"
     ]
    }
   ],
   "source": [
    "width = 10\n",
    "height = 10\n",
    "\n",
    "grid = create_grid(width, height)\n",
    "\n",
    "set_obstacle(grid, 2, 2)\n",
    "set_obstacle(grid, 5, 3)\n",
    "set_obstacle(grid, 1, 8)\n",
    "\n",
    "\n",
    "print_grid(grid)\n"
   ]
  },
  {
   "cell_type": "markdown",
   "metadata": {},
   "source": [
    "<br><br><br>\n",
    "\n",
    "#### Cost Function\n",
    "The cost function cost_function assigns a cost value to each action the robot takes. It considers factors such as terrain type (carpet vs. hardwood) and energy expenditure for turns to determine the cost of movement."
   ]
  },
  {
   "cell_type": "code",
   "execution_count": 5,
   "metadata": {},
   "outputs": [],
   "source": [
    "def cost_function(action, terrain_type):\n",
    "    # Default unit cost for movement\n",
    "    base_cost = 1\n",
    "\n",
    "    if terrain_type == \"carpet\":\n",
    "        # Higher cost for moving on carpet\n",
    "        movement_cost = base_cost * 2\n",
    "    else:\n",
    "        movement_cost = base_cost\n",
    "\n",
    "    if action in [\"LEFT\", \"RIGHT\"]:\n",
    "        # Add turn cost to movement cost for turning actions\n",
    "        total_cost = movement_cost + 2\n",
    "    else:\n",
    "        # No extra cost for straight movements\n",
    "        total_cost = movement_cost\n",
    "\n",
    "    return total_cost\n"
   ]
  },
  {
   "cell_type": "markdown",
   "metadata": {},
   "source": [
    "#### Cost function Test\n",
    "<br>\n",
    "The cost_function calculates the cost of a robot's action based on the terrain type and the action taken. It considers two factors, movement cost and turn cost. The movement cost is doubled if the robot is on carpet terrain, and the turn cost is higher for turning actions (LEFT or RIGHT) compared to straight movements (UP or DOWN).\n",
    "\n",
    "Testing Expectations:\n",
    "\n",
    "1. When the robot moves UP or DOWN on hardwood terrain, the cost should be 1.\n",
    "2. When the robot moves LEFT or RIGHT on hardwood terrain, the cost should be 3.\n",
    "3. When the robot moves UP or DOWN on carpet terrain, the cost should be 2.\n",
    "4. When the robot moves LEFT or RIGHT on carpet terrain, the cost should be 4.\n",
    "\n",
    "\n"
   ]
  },
  {
   "cell_type": "markdown",
   "metadata": {},
   "source": [
    "When the robot moves UP or DOWN on hardwood terrain, the cost should be 1:\n"
   ]
  },
  {
   "cell_type": "code",
   "execution_count": 6,
   "metadata": {},
   "outputs": [
    {
     "name": "stdout",
     "output_type": "stream",
     "text": [
      "1\n",
      "1\n"
     ]
    }
   ],
   "source": [
    "print(cost_function(\"UP\", \"hardwood\"))  # Output: 1\n",
    "print(cost_function(\"DOWN\", \"hardwood\"))  # Output: 1"
   ]
  },
  {
   "cell_type": "markdown",
   "metadata": {},
   "source": [
    "When the robot moves LEFT or RIGHT on hardwood terrain, the cost should be 3:"
   ]
  },
  {
   "cell_type": "code",
   "execution_count": 7,
   "metadata": {},
   "outputs": [
    {
     "name": "stdout",
     "output_type": "stream",
     "text": [
      "3\n",
      "3\n"
     ]
    }
   ],
   "source": [
    "print(cost_function(\"LEFT\", \"hardwood\"))  # Output: 3\n",
    "print(cost_function(\"RIGHT\", \"hardwood\"))  # Output: 3"
   ]
  },
  {
   "cell_type": "markdown",
   "metadata": {},
   "source": [
    "When the robot moves UP or DOWN on carpet terrain, the cost should be 2 (doubled movement cost):"
   ]
  },
  {
   "cell_type": "code",
   "execution_count": 8,
   "metadata": {},
   "outputs": [
    {
     "name": "stdout",
     "output_type": "stream",
     "text": [
      "2\n",
      "2\n"
     ]
    }
   ],
   "source": [
    "print(cost_function(\"UP\", \"carpet\"))  # Output: 2\n",
    "print(cost_function(\"DOWN\", \"carpet\"))  # Output: 2"
   ]
  },
  {
   "cell_type": "markdown",
   "metadata": {},
   "source": [
    "When the robot moves LEFT or RIGHT on carpet terrain, the cost should be 4:"
   ]
  },
  {
   "cell_type": "code",
   "execution_count": 9,
   "metadata": {},
   "outputs": [
    {
     "name": "stdout",
     "output_type": "stream",
     "text": [
      "4\n",
      "4\n"
     ]
    }
   ],
   "source": [
    "print(cost_function(\"LEFT\", \"carpet\"))  # Output: 4\n",
    "print(cost_function(\"RIGHT\", \"carpet\"))  # Output: 4"
   ]
  },
  {
   "cell_type": "markdown",
   "metadata": {},
   "source": [
    "<br>\n",
    "\n",
    "#### Heuristic Function\n",
    "The heuristic function estimates the remaining distance for the robot to reach the cleaning target. It considers obstacles in the environment and penalizes paths that require extensive navigation around them."
   ]
  },
  {
   "cell_type": "markdown",
   "metadata": {},
   "source": [
    "<br>\n",
    "\n",
    "#### Calculate Manhattan Distance Function\n",
    "\n",
    "Calculating the Manhattan distance between two points, representing a simple heuristic that estimates the remaining distance for the robot to reach the cleaning target. This function ignores obstacles in the environment."
   ]
  },
  {
   "cell_type": "code",
   "execution_count": 10,
   "metadata": {},
   "outputs": [],
   "source": [
    "def manhattan_distance(start, end):\n",
    "    return abs(start[0] - end[0]) + abs(start[1] - end[1])\n"
   ]
  },
  {
   "cell_type": "markdown",
   "metadata": {},
   "source": [
    "#### Handle Obstacle Function\n",
    "\n",
    "The purpose of this function is to handle obstacles in the environment when calculating the heuristic. It checks if a specific grid cell contains an obstacle and penalizes paths that would require the robot to navigate around obstacles. The function calculates the distances between the robot's current position, the obstacle, and the target position to determine if the path should be penalized.\n",
    "\n",
    "<br>\n",
    "\n",
    "The way this is working is basically helping the robot select paths that are not only direct (shortest, straight without detours) but also avoid obstacles between the robot's current position, the obstacle, and the target position.\n"
   ]
  },
  {
   "cell_type": "code",
   "execution_count": 11,
   "metadata": {},
   "outputs": [],
   "source": [
    "def handle_obstacle(current_position, target_position, grid, heuristic_value, row, col):\n",
    "    if grid[row][col] == 1:\n",
    "        obstacle_position = (col, row)\n",
    "        obstacle_distance = manhattan_distance(current_position, obstacle_position)\n",
    "        target_obstacle_distance = manhattan_distance(obstacle_position, target_position)\n",
    "\n",
    "        # Penalize paths that require navigation around obstacles\n",
    "        print(f\"distance to obstacles: {obstacle_distance}, distance from obstacle to target: {target_obstacle_distance}, heuristic value: {heuristic_value}\")\n",
    "        if obstacle_distance + target_obstacle_distance < heuristic_value:\n",
    "\n",
    "            # Penalize heavily for navigating around obstacles\n",
    "            heuristic_value += 10\n",
    "    return heuristic_value"
   ]
  },
  {
   "cell_type": "markdown",
   "metadata": {},
   "source": [
    "#### Testing handle_obstacle\n",
    "\n",
    "This function is expected to handle obstacles encountered during path finding and update the heuristic value accordingly.\n",
    "\n",
    "The higher heuristic value indicates that encountering an obstacle has made the path longer and more complex, leading to a higher estimated cost to reach the goal. This tells us that the algorithm is appropriately considering obstacles and adjusting its estimates accordingly for more accurate path finding."
   ]
  },
  {
   "cell_type": "code",
   "execution_count": 12,
   "metadata": {},
   "outputs": [
    {
     "name": "stdout",
     "output_type": "stream",
     "text": [
      "0 0 0 0 0 0 0 0 0 0\n",
      "0 0 0 0 0 0 0 0 0 0\n",
      "0 0 1 0 0 0 0 0 0 0\n",
      "0 0 0 0 0 1 0 0 0 0\n",
      "0 0 0 0 0 0 0 0 0 0\n",
      "0 0 0 0 0 0 0 0 0 0\n",
      "0 0 0 0 0 0 0 0 0 0\n",
      "0 0 0 0 0 0 0 0 0 0\n",
      "0 1 0 0 0 0 0 0 0 0\n",
      "0 0 0 0 0 0 0 0 0 0\n",
      "distance to obstacles: 4, distance from obstacle to target: 14, heuristic value: 20\n",
      "Updated heuristic value: 30\n"
     ]
    }
   ],
   "source": [
    "current_position = (0, 0)\n",
    "target_position = (9, 9)\n",
    "\n",
    "print_grid(grid)\n",
    "\n",
    "heuristic_value = 20\n",
    "\n",
    "# Check a cell with an obstacle and update the heuristic value\n",
    "updated_heuristic_value = handle_obstacle(current_position, target_position, grid, heuristic_value, 2, 2)\n",
    "print(f\"Updated heuristic value: {updated_heuristic_value}\")"
   ]
  },
  {
   "cell_type": "markdown",
   "metadata": {},
   "source": [
    "#### Heuristic Function\n",
    "\n",
    "This code is the heuristic function for path finding, taking into account obstacles in the grid. It calculates the Manhattan distance between the current position and the target position as the initial heuristic value. Then, it iterates through each cell in the grid to check for obstacles, updating the heuristic value based on the obstacle penalty using the `handle_obstacle` function. Finally, it returns the updated heuristic value, incorporating penalties for navigating around obstacles to provide a more accurate estimate of the remaining distance to reach the target."
   ]
  },
  {
   "cell_type": "code",
   "execution_count": 13,
   "metadata": {},
   "outputs": [],
   "source": [
    "def heuristic(current_position, target_position, grid):\n",
    "\n",
    "    # Calculate the Manhattan distance\n",
    "    heuristic_value = manhattan_distance(current_position, target_position)\n",
    "\n",
    "    # Penalize paths that require navigation around obstacles\n",
    "    for row in range(len(grid)):\n",
    "        for col in range(len(grid[0])):\n",
    "            heuristic_value = handle_obstacle(current_position, target_position, grid, heuristic_value, row, col)\n",
    "\n",
    "    return heuristic_value\n"
   ]
  },
  {
   "cell_type": "markdown",
   "metadata": {},
   "source": [
    "<br>\n",
    "\n",
    "#### Test Heuristic Function\n",
    "\n",
    "This test scenario calculates the estimated remaining distance for a robot to reach a target position from a given current position on a grid potentially containing obstacles. The test sets the current position as `(2, 2)` and the target position as `(9, 9)`. It then calls the `heuristic` function with these positions and the grid, aiming to verify the function's functionality in calculating the heuristic value considering Manhattan distance and obstacle penalties. The resulting `estimated_distance` value from the test is printed to demonstrate the estimated remaining distance, taking into account obstacles in the environment."
   ]
  },
  {
   "cell_type": "code",
   "execution_count": 14,
   "metadata": {},
   "outputs": [
    {
     "name": "stdout",
     "output_type": "stream",
     "text": [
      "distance to obstacles: 0, distance from obstacle to target: 14, heuristic value: 14\n",
      "distance to obstacles: 4, distance from obstacle to target: 10, heuristic value: 14\n",
      "distance to obstacles: 7, distance from obstacle to target: 9, heuristic value: 14\n",
      "Estimated remaining distance with obstacles: 14\n"
     ]
    }
   ],
   "source": [
    "current_position = (2, 2)\n",
    "target_position = (9, 9)\n",
    "\n",
    "estimated_distance = heuristic(current_position, target_position, grid)\n",
    "print(f\"Estimated remaining distance with obstacles: {estimated_distance}\")\n"
   ]
  }
 ],
 "metadata": {
  "kernelspec": {
   "display_name": "Python 3",
   "language": "python",
   "name": "python3"
  },
  "language_info": {
   "codemirror_mode": {
    "name": "ipython",
    "version": 3
   },
   "file_extension": ".py",
   "mimetype": "text/x-python",
   "name": "python",
   "nbconvert_exporter": "python",
   "pygments_lexer": "ipython3",
   "version": "3.11.9"
  }
 },
 "nbformat": 4,
 "nbformat_minor": 2
}
