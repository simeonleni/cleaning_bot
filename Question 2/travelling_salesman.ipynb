{
 "cells": [
  {
   "cell_type": "markdown",
   "metadata": {},
   "source": [
    "This code defines a `distances` dictionary that represents the distances between various locations.\n",
    "\n",
    "<br>\n",
    "\n",
    "The `add_missing_distances` function checks if there are pairs of locations where the distance is defined in one direction but not in the opposite direction. If such pairs are found, the missing distances are added to the dictionary by mirroring the existing distances. This ensures that distance calculations work bidirectionally for all pairs of locations."
   ]
  },
  {
   "cell_type": "code",
   "execution_count": null,
   "metadata": {},
   "outputs": [],
   "source": [
    "distances = {\n",
    "    ('Dorado Park', 'Khomasdal'): 7,\n",
    "    ('Dorado Park', 'Katutura'): 20,\n",
    "    ('Dorado Park', 'Eros'): 15,\n",
    "    ('Dorado Park', 'Klein Windhoek'): 12,\n",
    "    ('Khomasdal', 'Katutura'): 6,\n",
    "    ('Khomasdal', 'Eros'): 14,\n",
    "    ('Khomasdal', 'Klein Windhoek'): 18,\n",
    "    ('Katutura', 'Klein Windhoek'): 30,\n",
    "    ('Eros', 'Klein Windhoek'): 2,\n",
    "    ('Eros', 'Khomasdal'): 14,\n",
    "    ('Klein Windhoek', 'Dorado Park'): 12,\n",
    "    ('Klein Windhoek', 'Khomasdal'): 18,\n",
    "    ('Klein Windhoek', 'Katutura'): 30,\n",
    "    ('Klein Windhoek', 'Eros'): 2,\n",
    "    ('Katutura', 'Khomasdal'): 6,\n",
    "    ('Katutura', 'Eros'): 25,\n",
    "}\n",
    "\n",
    "# Add missing distances if not already defined\n",
    "def add_missing_distances():\n",
    "    missing_distances = []\n",
    "    for place1, place2 in distances.keys():\n",
    "        if (place2, place1) not in distances:\n",
    "            missing_distances.append((place2, place1))\n",
    "    for place1, place2 in missing_distances:\n",
    "        distances[(place1, place2)] = distances[(place2, place1)]\n",
    "\n",
    "add_missing_distances()"
   ]
  },
  {
   "cell_type": "markdown",
   "metadata": {},
   "source": [
    "<br>\n",
    "\n",
    "#### Random route generation\n",
    "\n",
    "The `generate_random_route` function creates a random order of places to visit from a given list, ensuring each place is visited exactly once."
   ]
  },
  {
   "cell_type": "code",
   "execution_count": null,
   "metadata": {},
   "outputs": [],
   "source": [
    "import random\n",
    "\n",
    "def generate_random_route(places):\n",
    "    while True:\n",
    "        route = places[:]\n",
    "        random.shuffle(route)\n",
    "        if is_valid_route(route):\n",
    "            return route"
   ]
  },
  {
   "cell_type": "markdown",
   "metadata": {},
   "source": [
    "<br>\n",
    "\n",
    "#### Checking if route is valid\n",
    "\n",
    "The `is_valid_route` function checks if a given route is valid based on the distances defined in the `distances` dictionary. It iterates through each pair of consecutive places in the route and checks if the distance between them is defined in the `distances` dictionary. If any pair of places in the route does not have a corresponding distance, the function returns `False`, indicating that the route is invalid. Otherwise, if all pairs have defined distances, the function returns `True`, indicating that the route is valid."
   ]
  },
  {
   "cell_type": "code",
   "execution_count": null,
   "metadata": {},
   "outputs": [],
   "source": [
    "def is_valid_route(route):\n",
    "    for i in range(len(route) - 1):\n",
    "        if (route[i], route[i + 1]) not in distances:\n",
    "            return False\n",
    "    return True"
   ]
  },
  {
   "cell_type": "markdown",
   "metadata": {},
   "source": [
    "<br>\n",
    "\n",
    "#### Exploring the neighbor\n",
    "\n",
    "The `explore_neighbours` function randomly selects two positions in a given route and swaps the places at those positions to generate a new route. This process simulates exploring neighboring solutions for the Traveling Salesman Problem (TSP)."
   ]
  },
  {
   "cell_type": "code",
   "execution_count": null,
   "metadata": {},
   "outputs": [],
   "source": [
    "def explore_neighbours(route):\n",
    "    i, j = random.sample(range(len(route)), 2)\n",
    "    new_route = route[:]\n",
    "    new_route[i], new_route[j] = new_route[j], new_route[i]\n",
    "    return new_route\n"
   ]
  },
  {
   "cell_type": "markdown",
   "metadata": {},
   "source": [
    "<br>\n",
    "\n",
    "#### Calculating the cost for the route\n",
    "\n",
    "The cost_of_route function calculates the total cost of traversing a given route based on the distances defined in the distances dictionary. It iterates through each pair of consecutive places in the route and adds up the corresponding distances from the distances dictionary to compute the total cost of the route. The function then returns this total cost."
   ]
  },
  {
   "cell_type": "code",
   "execution_count": null,
   "metadata": {},
   "outputs": [],
   "source": [
    "def cost_of_route(route):\n",
    "    total_cost = 0\n",
    "    for i in range(len(route) - 1):\n",
    "        total_cost += distances[(route[i], route[i + 1])]\n",
    "    return total_cost\n"
   ]
  },
  {
   "cell_type": "markdown",
   "metadata": {},
   "source": [
    "<br>\n",
    "\n",
    "#### The implementation of the hill climbing tsp algorithm\n",
    "\n",
    "The hill_climbing_tsp function is an implementation of the hill climbing algorithm for the Traveling Salesman Problem (TSP). Here's a summary of what it does:\n",
    "\n",
    "It starts by generating a random initial route using the generate_random_route function. If the random route generation fails (returns None), it returns None values to indicate the failure.\n",
    "\n",
    "It calculates the cost of the initial route using the cost_of_route function.\n",
    "\n",
    "It enters a loop where it continuously explores neighboring solutions by swapping two random positions in the current route using the explore_neighbours function.\n",
    "\n",
    "For each neighboring solution, it calculates the cost using the cost_of_route function.\n",
    "\n",
    "If the cost of the neighboring solution is lower than the current cost, it updates the current route and cost to the neighboring solution. This process continues until no improving neighbors are found, at which point the hill climbing algorithm stops and returns the current route and its cost."
   ]
  },
  {
   "cell_type": "code",
   "execution_count": null,
   "metadata": {},
   "outputs": [],
   "source": [
    "def hill_climbing_tsp(places):\n",
    "    current_route = generate_random_route(places)\n",
    "    if current_route is None:\n",
    "        return None, None, [], []\n",
    "    \n",
    "    current_cost = cost_of_route(current_route)\n",
    "    best_route = current_route[:]\n",
    "    best_cost = current_cost\n",
    "    explored_routes = [current_route[:]]  # Store the initial route\n",
    "    explored_costs = [current_cost]  # Store the initial cost\n",
    "    \n",
    "    while True:\n",
    "        neighbour_route = explore_neighbours(current_route)\n",
    "        neighbour_cost = cost_of_route(neighbour_route)\n",
    "        \n",
    "        explored_routes.append(neighbour_route[:])  # Store the explored route\n",
    "        explored_costs.append(neighbour_cost)  # Store the explored cost\n",
    "        \n",
    "        if neighbour_cost < current_cost:\n",
    "            current_route = neighbour_route\n",
    "            current_cost = neighbour_cost\n",
    "            \n",
    "            if current_cost < best_cost:\n",
    "                best_route = current_route[:]\n",
    "                best_cost = current_cost\n",
    "        else:\n",
    "            break  # No improving neighbours found, stop hill climbing\n",
    "    \n",
    "    return best_route, best_cost, explored_routes, explored_costs"
   ]
  },
  {
   "cell_type": "markdown",
   "metadata": {},
   "source": [
    "<br>\n",
    "\n",
    "#### Analysis and Comparison\n",
    "\n",
    "**Analysis**: The algorithm identifies the best route, 'best_route', and its corresponding total cost, 'best_cost', highlighting its effectiveness in finding an optimized solution.\n",
    "\n",
    "<br>\n",
    "\n",
    "**Comparison**: The code also presents the 'explored_routes' and their respective costs, enabling a comparative assessment of different routes. This comparison sheds light on the efficiency of the hill climbing approach by contrasting explored alternatives and their costs against the best route and cost found."
   ]
  },
  {
   "cell_type": "code",
   "execution_count": null,
   "metadata": {},
   "outputs": [],
   "source": [
    "places = ['Dorado Park', 'Khomasdal', 'Katutura', 'Eros', 'Klein Windhoek']\n",
    "best_route, best_cost, explored_routes, explored_costs = hill_climbing_tsp(places)\n",
    "\n",
    "print(\"Best Route Found:\", best_route)\n",
    "print(\"Total Cost:\", best_cost)\n",
    "\n",
    "print(\"\\nExplored Routes:\")\n",
    "for i, (route, cost) in enumerate(zip(explored_routes, explored_costs)):\n",
    "    print(f\"Route {i + 1}: {route} - Cost: {cost}\")"
   ]
  },
  {
   "cell_type": "markdown",
   "metadata": {},
   "source": [
    "#### Visualization\n",
    "this visualization showcase a sample city set and the routes generated by your hill climbing algorithm at different stages (initial, intermediate, and final)."
   ]
  },
  {
   "cell_type": "code",
   "execution_count": null,
   "metadata": {},
   "outputs": [],
   "source": [
    "import plotly.graph_objects as go\n",
    "\n",
    "# Fixed coordinates for each place\n",
    "coordinates = {\n",
    "    'Dorado Park': (3, 1),\n",
    "    'Khomasdal': (2, 2),\n",
    "    'Katutura': (1, 3),\n",
    "    'Eros': (1, 4),\n",
    "    'Klein Windhoek': (2, 5)\n",
    "}\n",
    "\n",
    "# Plot the best route\n",
    "fig_best = go.Figure()\n",
    "\n",
    "# Add cities as scatter points with updated coordinates\n",
    "fig_best.add_trace(go.Scatter(x=[coord[0] for coord in coordinates.values()], \n",
    "                              y=[coord[1] for coord in coordinates.values()], \n",
    "                              mode='markers+text', text=list(coordinates.keys()),\n",
    "                              textposition='top center', marker=dict(size=10), name='Cities'))\n",
    "\n",
    "# Add lines for the best route\n",
    "fig_best.add_trace(go.Scatter(x=[coordinates[city][0] for city in best_route + [best_route[0]]],\n",
    "                              y=[coordinates[city][1] for city in best_route + [best_route[0]]],\n",
    "                              mode='lines', line=dict(color='blue'), name='Best Route'))\n",
    "\n",
    "# Customize the layout for the best route plot\n",
    "fig_best.update_layout(title='Best Route Visualization',\n",
    "                       xaxis_title='X Coordinate',\n",
    "                       yaxis_title='Y Coordinate',\n",
    "                       showlegend=False,\n",
    "                       plot_bgcolor='white',\n",
    "                       margin=dict(l=50, r=50, t=50, b=50),  # Adjust margins\n",
    "                       height=600,  # Increase height\n",
    "                       width=800)  # Increase width\n",
    "\n",
    "# Show the best route plot\n",
    "fig_best.show()\n",
    "\n",
    "# Plot each explored route separately\n",
    "for i, route in enumerate(explored_routes):\n",
    "    fig_explored = go.Figure()\n",
    "\n",
    "    # Add cities as scatter points with updated coordinates\n",
    "    fig_explored.add_trace(go.Scatter(x=[coord[0] for coord in coordinates.values()], \n",
    "                                      y=[coord[1] for coord in coordinates.values()], \n",
    "                                      mode='markers+text', text=list(coordinates.keys()),\n",
    "                                      textposition='top center', marker=dict(size=10), name='Cities'))\n",
    "\n",
    "    # Add lines for the explored route\n",
    "    fig_explored.add_trace(go.Scatter(x=[coordinates[city][0] for city in route + [route[0]]],\n",
    "                                      y=[coordinates[city][1] for city in route + [route[0]]],\n",
    "                                      mode='lines', line=dict(color='red'), name=f'Explored Route {i + 1}'))\n",
    "\n",
    "    # Customize the layout for the explored route plot\n",
    "    fig_explored.update_layout(title=f'Explored Route {i + 1} Visualization',\n",
    "                                xaxis_title='X Coordinate',\n",
    "                                yaxis_title='Y Coordinate',\n",
    "                                showlegend=False,\n",
    "                                plot_bgcolor='white',\n",
    "                                margin=dict(l=50, r=50, t=50, b=50),  # Adjust margins\n",
    "                                height=600,  # Increase height\n",
    "                                width=800)  # Increase width\n",
    "\n",
    "    # Show the explored route plot\n",
    "    fig_explored.show()"
   ]
  }
 ],
 "metadata": {
  "kernelspec": {
   "display_name": "Python 3",
   "language": "python",
   "name": "python3"
  },
  "language_info": {
   "codemirror_mode": {
    "name": "ipython",
    "version": 3
   },
   "file_extension": ".py",
   "mimetype": "text/x-python",
   "name": "python",
   "nbconvert_exporter": "python",
   "pygments_lexer": "ipython3",
   "version": "3.11.9"
  }
 },
 "nbformat": 4,
 "nbformat_minor": 2
}
